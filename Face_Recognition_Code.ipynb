{
  "nbformat": 4,
  "nbformat_minor": 0,
  "metadata": {
    "colab": {
      "name": "Face_Recognition_Code.ipynb",
      "provenance": [],
      "collapsed_sections": [],
      "authorship_tag": "ABX9TyMcZLFCmbEDX6VvvF8Io3bN",
      "include_colab_link": true
    },
    "kernelspec": {
      "name": "python3",
      "display_name": "Python 3"
    },
    "language_info": {
      "name": "python"
    },
    "accelerator": "GPU"
  },
  "cells": [
    {
      "cell_type": "markdown",
      "metadata": {
        "id": "view-in-github",
        "colab_type": "text"
      },
      "source": [
        "<a href=\"https://colab.research.google.com/github/ShubhankarMahajan/SMEC-Hackathon/blob/master/Face_Recognition_Code.ipynb\" target=\"_parent\"><img src=\"https://colab.research.google.com/assets/colab-badge.svg\" alt=\"Open In Colab\"/></a>"
      ]
    },
    {
      "cell_type": "code",
      "metadata": {
        "id": "RJ5edN23ikWl"
      },
      "source": [
        "!pip install deepface\n",
        "!apt install libzbar0\n",
        "!pip install pyzbar"
      ],
      "execution_count": null,
      "outputs": []
    },
    {
      "cell_type": "code",
      "metadata": {
        "id": "dPZm4Ld1-ZNT"
      },
      "source": [
        "from google.colab import drive\n",
        "drive.mount('/content/gdrive')\n",
        "%cd /content/gdrive/MyDrive/Face_Recognition//"
      ],
      "execution_count": null,
      "outputs": []
    },
    {
      "cell_type": "code",
      "metadata": {
        "id": "MQq4vWJSxked"
      },
      "source": [
        "from IPython.display import display, Javascript\n",
        "from google.colab.output import eval_js\n",
        "from base64 import b64decode\n",
        "QR_filename = 'QR_Code_Verify.jpg'\n",
        "def take_photo(filename=QR_filename, quality=0.8):\n",
        "  js = Javascript('''\n",
        "    async function takePhoto(quality) {\n",
        "      const div = document.createElement('div');\n",
        "      const capture = document.createElement('button');\n",
        "      capture.textContent = 'Capture';\n",
        "      div.appendChild(capture);\n",
        "\n",
        "      const video = document.createElement('video');\n",
        "      video.style.display = 'block';\n",
        "      const stream = await navigator.mediaDevices.getUserMedia({video: true});\n",
        "\n",
        "      document.body.appendChild(div);\n",
        "      div.appendChild(video);\n",
        "      video.srcObject = stream;\n",
        "      await video.play();\n",
        "\n",
        "      // Resize the output to fit the video element.\n",
        "      google.colab.output.setIframeHeight(document.documentElement.scrollHeight, true);\n",
        "\n",
        "      // Wait for Capture to be clicked.\n",
        "      await new Promise((resolve) => capture.onclick = resolve);\n",
        "\n",
        "      const canvas = document.createElement('canvas');\n",
        "      canvas.width = video.videoWidth;\n",
        "      canvas.height = video.videoHeight;\n",
        "      canvas.getContext('2d').drawImage(video, 0, 0);\n",
        "      stream.getVideoTracks()[0].stop();\n",
        "      div.remove();\n",
        "      return canvas.toDataURL('image/jpeg', quality);\n",
        "    }\n",
        "    ''')\n",
        "  display(js)\n",
        "  data = eval_js('takePhoto({})'.format(quality))\n",
        "  binary = b64decode(data.split(',')[1])\n",
        "  with open(filename, 'wb') as f:\n",
        "    f.write(binary)\n",
        "  return filename"
      ],
      "execution_count": null,
      "outputs": []
    },
    {
      "cell_type": "code",
      "metadata": {
        "id": "XZdFYn-nxk7_"
      },
      "source": [
        "from IPython.display import Image\n",
        "try:\n",
        "  filename = take_photo()\n",
        "  print('Saved to {}'.format(filename))\n",
        "  \n",
        "  # Show the image which was just taken.\n",
        "  display(Image(filename))\n",
        "except Exception as err:\n",
        "  # Errors will be thrown if the user does not have a webcam or if they do not\n",
        "  # grant the page permission to access it.\n",
        "  print(str(err))"
      ],
      "execution_count": null,
      "outputs": []
    },
    {
      "cell_type": "code",
      "metadata": {
        "id": "F3umnL_ox4DJ"
      },
      "source": [
        "from pyzbar import pyzbar\n",
        "import numpy,cv2\n",
        "from PIL import Image\n",
        "font = cv2.FONT_HERSHEY_PLAIN\n",
        "pil = Image.open(filename)\n",
        "open_cv_image = numpy.array(pil)\n",
        "decodedObjects = pyzbar.decode(open_cv_image)\n",
        "for obj in decodedObjects:\n",
        "        #print(\"Data\", obj.data)\n",
        "        cv2.putText(open_cv_image, str(obj.data), (50, 50), font, 2,(255, 0, 0), 3)\n",
        "zip_file_name = str(obj.data)[9:-1]\n",
        "print(zip_file_name)"
      ],
      "execution_count": null,
      "outputs": []
    },
    {
      "cell_type": "code",
      "metadata": {
        "id": "T4lgDDiJHwLk"
      },
      "source": [
        "from IPython.display import display, Javascript\n",
        "from google.colab.output import eval_js\n",
        "from base64 import b64decode\n",
        "import os\n",
        "\n",
        "os.system(\"cd Face_Recognition\")\n",
        "pswd = '1234'\n",
        "with zipfile.ZipFile(zip_file_name) as zip_file:\n",
        "  with zip_file.open('offlineaadhaar20211031114715632.xml',mode='r',pwd = bytes(pswd, 'utf-8')) as xml_file:\n",
        "    xml_data = xml_file.read()\n",
        "xml_data= str(xml_data)\n",
        "base64_img = bytes(xml_data[xml_data.find(\"<Pht>\")+5:xml_data.find(\"</Pht>\")],'utf-8')\n",
        "user_name = (xml_data[xml_data.find(\"name=\")+6:xml_data.find(\"\\\"/><Poa careof\")]).replace(\" \",\"_\")\n",
        "imgdata = base64.b64decode(base64_img)\n",
        "filename = user_name+\"_Verify.png\"\n",
        "verify_username = filename\n",
        "def take_photo(filename=filename, quality=0.8):\n",
        "  js = Javascript('''\n",
        "    async function takePhoto(quality) {\n",
        "      const div = document.createElement('div');\n",
        "      const capture = document.createElement('button');\n",
        "      capture.textContent = 'Capture';\n",
        "      div.appendChild(capture);\n",
        "\n",
        "      const video = document.createElement('video');\n",
        "      video.style.display = 'block';\n",
        "      const stream = await navigator.mediaDevices.getUserMedia({video: true});\n",
        "\n",
        "      document.body.appendChild(div);\n",
        "      div.appendChild(video);\n",
        "      video.srcObject = stream;\n",
        "      await video.play();\n",
        "\n",
        "      // Resize the output to fit the video element.\n",
        "      google.colab.output.setIframeHeight(document.documentElement.scrollHeight, true);\n",
        "\n",
        "      // Wait for Capture to be clicked.\n",
        "      await new Promise((resolve) => capture.onclick = resolve);\n",
        "\n",
        "      const canvas = document.createElement('canvas');\n",
        "      canvas.width = video.videoWidth;\n",
        "      canvas.height = video.videoHeight;\n",
        "      canvas.getContext('2d').drawImage(video, 0, 0);\n",
        "      stream.getVideoTracks()[0].stop();\n",
        "      div.remove();\n",
        "      return canvas.toDataURL('image/jpeg', quality);\n",
        "    }\n",
        "    ''')\n",
        "  display(js)\n",
        "  data = eval_js('takePhoto({})'.format(quality))\n",
        "  binary = b64decode(data.split(',')[1])\n",
        "  with open(filename, 'wb') as f:\n",
        "    f.write(binary)\n",
        "  return filename"
      ],
      "execution_count": null,
      "outputs": []
    },
    {
      "cell_type": "code",
      "metadata": {
        "id": "EI4Y6ANSHwLm"
      },
      "source": [
        "from IPython.display import Image\n",
        "try:\n",
        "  filename = take_photo()\n",
        "  print('Saved to {}'.format(filename))\n",
        "  \n",
        "  # Show the image which was just taken.\n",
        "  display(Image(filename))\n",
        "except Exception as err:\n",
        "  # Errors will be thrown if the user does not have a webcam or if they do not\n",
        "  # grant the page permission to access it.\n",
        "  print(str(err))"
      ],
      "execution_count": null,
      "outputs": []
    },
    {
      "cell_type": "code",
      "metadata": {
        "id": "qLYCrETz9wxw"
      },
      "source": [
        "from deepface import DeepFace\n",
        "import zipfile\n",
        "import os, base64\n",
        "os.system(\"cd Face_Recognition\")\n",
        "pswd = '1234'\n",
        "with zipfile.ZipFile(zip_file_name) as zip_file:\n",
        "  with zip_file.open('offlineaadhaar20211031114715632.xml',mode='r',pwd = bytes(pswd, 'utf-8')) as xml_file:\n",
        "    xml_data = xml_file.read()\n",
        "xml_data= str(xml_data)\n",
        "base64_img = bytes(xml_data[xml_data.find(\"<Pht>\")+5:xml_data.find(\"</Pht>\")],'utf-8')\n",
        "user_name = (xml_data[xml_data.find(\"name=\")+6:xml_data.find(\"\\\"/><Poa careof\")]+\".png\").replace(\" \",\"_\")\n",
        "imgdata = base64.b64decode(base64_img)\n",
        "filename = user_name\n",
        "with open(filename, 'wb') as f:\n",
        "    f.write(imgdata)\n",
        "result = DeepFace.verify(img1_path = user_name, img2_path = verify_username)\n",
        "os.remove(user_name)\n",
        "os.remove(verify_username)\n",
        "os.remove(QR_filename)"
      ],
      "execution_count": null,
      "outputs": []
    },
    {
      "cell_type": "code",
      "metadata": {
        "id": "SYkVvgFAHsAx",
        "colab": {
          "base_uri": "https://localhost:8080/"
        },
        "outputId": "47477478-3714-45a3-d4c6-d20eaaae4ae0"
      },
      "source": [
        "if result['verified']:\n",
        "  print(\"User Authenticaiton Successful!\")\n",
        "else:\n",
        "  print(\"User couldn't be recognized. Please try again!\")"
      ],
      "execution_count": null,
      "outputs": [
        {
          "output_type": "stream",
          "name": "stdout",
          "text": [
            "User Authenticaiton Successful!\n"
          ]
        }
      ]
    }
  ]
}